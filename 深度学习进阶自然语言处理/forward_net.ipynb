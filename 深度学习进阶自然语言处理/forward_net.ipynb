{
 "cells": [
  {
   "cell_type": "code",
   "execution_count": 2,
   "id": "320a3af3-adb3-4961-9861-0e7f9d023ece",
   "metadata": {},
   "outputs": [],
   "source": [
    "import numpy as np\n",
    "\n",
    "class sigmoid:\n",
    "    def __init__(self):\n",
    "        self.params = []\n",
    "\n",
    "    def forward(self,x):\n",
    "        return 1/(1+np.exp(-x))\n",
    "\n",
    "class Affine:\n",
    "    def __init__(self,W,b):\n",
    "        self.params=[W,b]\n",
    "\n",
    "    def forward(self,x):\n",
    "        W,b=self.params\n",
    "        out=np.dot(x,W)+b\n",
    "        return out\n",
    "\n",
    "class TwoLayerNet:\n",
    "    def __init__(self,input_size,hidden_size,output_size):\n",
    "        I,H,O = input_size,hidden_size,output_size\n",
    "\n",
    "        # 初始化权重和偏置\n",
    "        W1 = np.random.randn(I,H)\n",
    "        b1=np.random.randn(H)\n",
    "        W2 = np.random.randn(O)\n",
    "        b2=np.random.randn(O)\n",
    "\n",
    "        # 生成层\n",
    "        sefl.layer=[\n",
    "            Affine(W1,W2),\n",
    "            Sigmoid(),\n",
    "            Affine(W2,b2)\n",
    "        ]\n",
    "\n",
    "        # 将所有的权重整理到列表中\n",
    "        self.params = []\n",
    "        for layer in self.layer:\n",
    "            self.params+=layer.params\n",
    "\n",
    "        def predict(self,x):\n",
    "            for layer in self.layers:\n",
    "                x = layer.forward(x)\n",
    "\n",
    "        return x"
   ]
  },
  {
   "cell_type": "code",
   "execution_count": null,
   "id": "bcbfbaad-bcc5-43d2-8862-359e231bb0fc",
   "metadata": {},
   "outputs": [],
   "source": []
  }
 ],
 "metadata": {
  "kernelspec": {
   "display_name": "Python 3 (ipykernel)",
   "language": "python",
   "name": "python3"
  },
  "language_info": {
   "codemirror_mode": {
    "name": "ipython",
    "version": 3
   },
   "file_extension": ".py",
   "mimetype": "text/x-python",
   "name": "python",
   "nbconvert_exporter": "python",
   "pygments_lexer": "ipython3",
   "version": "3.9.0"
  }
 },
 "nbformat": 4,
 "nbformat_minor": 5
}
