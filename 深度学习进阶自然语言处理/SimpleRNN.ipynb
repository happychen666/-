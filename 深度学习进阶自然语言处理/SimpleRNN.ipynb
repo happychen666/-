{
 "cells": [
  {
   "cell_type": "code",
   "execution_count": 13,
   "id": "94444fc9",
   "metadata": {},
   "outputs": [
    {
     "name": "stdout",
     "output_type": "stream",
     "text": [
      "sequence tensor([[[1., 0., 0.],\n",
      "         [0., 1., 0.],\n",
      "         [0., 0., 1.]]])\n",
      "rnn_out, _ tensor([[[ 0.2931, -0.1841,  0.3265,  0.2168, -0.6648],\n",
      "         [ 0.3545,  0.0409, -0.2779,  0.1818, -0.6044],\n",
      "         [-0.0627, -0.0907,  0.3163,  0.5820, -0.5286]]],\n",
      "       grad_fn=<TransposeBackward1>) tensor([[[-0.0627, -0.0907,  0.3163,  0.5820, -0.5286]]],\n",
      "       grad_fn=<StackBackward0>)\n"
     ]
    }
   ],
   "source": [
    "import torch\n",
    "import torch.nn as nn\n",
    "import torch.nn.functional as F\n",
    "\n",
    "# 定义一个简单的 RNN 模型，继承自 nn.Module，使得它成为一个可训练的 PyTorch 模型。\n",
    "class SimpleRNN(nn.Module):\n",
    "    def __init__(self, input_size, hidden_size, output_size):\n",
    "        super(SimpleRNN, self).__init__()\n",
    "        self.rnn = nn.RNN(input_size, hidden_size, batch_first=True)\n",
    "        self.fc = nn.Linear(hidden_size, output_size)\n",
    "\n",
    "    def forward(self, x):\n",
    "        # x: (batch_size, seq_length, input_size)\n",
    "        rnn_out, _ = self.rnn(x)  # RNN 输出\n",
    "        print('rnn_out, _',rnn_out, _)\n",
    "        output = self.fc(rnn_out[:, -1, :])  # 取最后一个时间步的输出\n",
    "        return output\n",
    "\n",
    "# 假设每个字母用 one-hot 编码表示，输入的字母序列\n",
    "one_hot_a = [1, 0, 0]\n",
    "one_hot_b = [0, 1, 0]\n",
    "one_hot_c = [0, 0, 1]\n",
    "\n",
    "# 创建输入数据：字母序列 'a', 'b', 'c'\n",
    "# 注意这里直接创建一个形状为 (1, 3, 3) 的张量\n",
    "sequence = torch.tensor([[one_hot_a, one_hot_b, one_hot_c]], dtype=torch.float32)\n",
    "print('sequence',sequence)\n",
    "# 创建 RNN 模型\n",
    "input_size = 3  # 输入特征的维度\n",
    "hidden_size = 5  # 隐藏状态的维度，表示 RNN 中隐藏单元的数量，也就是隐藏神经元的个数。每个隐藏神经元可以看作是一个存储信息的单元，而 hidden_size 决定了有多少个这样的单元在 RNN 中同时存在。简单来说，它决定了模型在每个时间步上能处理和记住多少信息。\n",
    "output_size = 3  # 输出特征的维度（预测下一个字母的 one-hot 编码）\n",
    "model = SimpleRNN(input_size, hidden_size, output_size)\n",
    "\n",
    "# 前向传播\n",
    "output = model(sequence)\n",
    "predicted_letter = F.softmax(output, dim=1)  # 使用 softmax 函数获得每个字母的概率分布\n",
    "\n",
    "# 打印预测结果\n",
    "# print(\"预测下一个字母的概率分布:\", predicted_letter.detach().numpy())\n"
   ]
  },
  {
   "cell_type": "code",
   "execution_count": null,
   "id": "0357243a",
   "metadata": {},
   "outputs": [],
   "source": []
  }
 ],
 "metadata": {
  "kernelspec": {
   "display_name": "Python 3 (ipykernel)",
   "language": "python",
   "name": "python3"
  },
  "language_info": {
   "codemirror_mode": {
    "name": "ipython",
    "version": 3
   },
   "file_extension": ".py",
   "mimetype": "text/x-python",
   "name": "python",
   "nbconvert_exporter": "python",
   "pygments_lexer": "ipython3",
   "version": "3.9.0"
  }
 },
 "nbformat": 4,
 "nbformat_minor": 5
}
