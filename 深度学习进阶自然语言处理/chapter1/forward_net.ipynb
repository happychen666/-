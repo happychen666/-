{
 "cells": [
  {
   "cell_type": "code",
   "execution_count": 6,
   "id": "320a3af3-adb3-4961-9861-0e7f9d023ece",
   "metadata": {},
   "outputs": [],
   "source": [
    "import numpy as np\n",
    "\n",
    "class Sigmoid:\n",
    "    def __init__(self):\n",
    "        self.params,self.grads = [],[]\n",
    "        self.out = None  # 初始化为 None\n",
    "\n",
    "    def forward(self,x):\n",
    "        out = 1/(1+np.exp(-x))\n",
    "        self.out = out\n",
    "        return out\n",
    "    \n",
    "    def backward(self,dout):\n",
    "        dx = dout*(1.0 - self.out)*self.out\n",
    "        return dx\n",
    "\n",
    "class Affine:\n",
    "    def __init__(self,W,b):\n",
    "        self.grads=[np.zeros_like(W),np.zeros_like(b)]\n",
    "        self.params=[W,b]\n",
    "        self.x = None\n",
    "\n",
    "    def forward(self,x):\n",
    "        W,b=self.params\n",
    "        out=np.dot(x,W)+b\n",
    "        return out\n",
    "\n",
    "    def backward(self,dout):\n",
    "        W,b = self.params\n",
    "        dx=np.dot(dout,W.T)\n",
    "        dW=np.dot(self.x.T,dout)\n",
    "        db=np.sum(dout,axis=0)\n",
    "\n",
    "        self.grads[0][...]=dW\n",
    "        sef.grads[1][...] = db\n",
    "        return dx\n",
    "\n",
    "class TwoLayerNet:\n",
    "    def __init__(self,input_size,hidden_size,output_size):\n",
    "        I,H,O = input_size,hidden_size,output_size\n",
    "\n",
    "        # 初始化权重和偏置\n",
    "        W1 = np.random.randn(I,H)\n",
    "        b1=np.random.randn(H)\n",
    "        W2 = np.random.randn(H,O)\n",
    "        b2=np.random.randn(O)\n",
    "\n",
    "        # 生成层\n",
    "        self.layers=[\n",
    "            Affine(W1,b1),\n",
    "            Sigmoid(),\n",
    "            Affine(W2,b2)\n",
    "        ]\n",
    "\n",
    "        # 将所有的权重整理到列表中\n",
    "        self.params = []\n",
    "        for layer in self.layers:\n",
    "            self.params+=layer.params\n",
    "\n",
    "    def predict(self,x):\n",
    "        for layer in self.layers:\n",
    "            x = layer.forward(x)\n",
    "        return x\n",
    "\n",
    "class SGD:\n",
    "    def __init__(self,lr=0.01):\n",
    "        self.lr = lr\n",
    "\n",
    "    def update(self,params,grads):\n",
    "        for i in range(len(params)):\n",
    "            params[i] -= self.lr*grads[i] "
   ]
  },
  {
   "cell_type": "code",
   "execution_count": 7,
   "id": "bcbfbaad-bcc5-43d2-8862-359e231bb0fc",
   "metadata": {},
   "outputs": [
    {
     "data": {
      "text/plain": [
       "array([[ 0.28839443,  2.05314983, -1.69570804],\n",
       "       [ 0.39283679,  1.9138746 , -1.63823282],\n",
       "       [ 0.14487168,  2.36284911, -1.92121274],\n",
       "       [ 0.2592264 ,  1.95145464, -1.51803459],\n",
       "       [ 0.16826317,  2.20735414, -1.73591984],\n",
       "       [ 0.48278923,  1.72291897, -1.4847738 ],\n",
       "       [ 0.35076692,  1.85730302, -1.51967432],\n",
       "       [ 0.60698925,  1.40443014, -1.22851591],\n",
       "       [ 0.1033558 ,  2.37959227, -1.89616685],\n",
       "       [ 0.37569525,  1.90417623, -1.6111636 ]])"
      ]
     },
     "execution_count": 7,
     "metadata": {},
     "output_type": "execute_result"
    }
   ],
   "source": [
    "x = np.random.randn(10,2)\n",
    "model = TwoLayerNet(2,4,3)\n",
    "optimizer=SGD()\n",
    "# model.predict(x)\n",
    "for i range(1000):\n",
    "    \n"
   ]
  },
  {
   "cell_type": "code",
   "execution_count": null,
   "id": "3adcff67-40b7-4e63-867b-1be653bb1a0e",
   "metadata": {},
   "outputs": [],
   "source": []
  },
  {
   "cell_type": "code",
   "execution_count": null,
   "id": "db0b999c-c182-46fb-8c58-c7b8d6176cfd",
   "metadata": {},
   "outputs": [],
   "source": []
  }
 ],
 "metadata": {
  "kernelspec": {
   "display_name": "Python 3 (ipykernel)",
   "language": "python",
   "name": "python3"
  },
  "language_info": {
   "codemirror_mode": {
    "name": "ipython",
    "version": 3
   },
   "file_extension": ".py",
   "mimetype": "text/x-python",
   "name": "python",
   "nbconvert_exporter": "python",
   "pygments_lexer": "ipython3",
   "version": "3.9.0"
  }
 },
 "nbformat": 4,
 "nbformat_minor": 5
}
