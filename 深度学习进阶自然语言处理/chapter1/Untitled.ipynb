{
 "cells": [
  {
   "cell_type": "code",
   "execution_count": 71,
   "id": "e14fcc6c-ee0e-4e20-869c-7557fc208237",
   "metadata": {},
   "outputs": [],
   "source": [
    "import numpy as np\n",
    "\n",
    "# # 假设 W 是一个 3x3 的矩阵\n",
    "# W = np.array([[0.1, 0.2, 0.3],\n",
    "#               [0.4, 0.5, 0.6],\n",
    "#               [0.7, 0.8, 0.9]])\n",
    "\n",
    "# G = np.array([[5, 2, 0.3],\n",
    "#               [4, 15, 0.6]])\n",
    "\n",
    "# # grads 是一个包含 W 同样形状的全零矩阵的列表\n",
    "# grads = [np.zeros_like(W)]\n",
    "# print(np.zeros_like(W))\n",
    "# print(np.zeros_like(G))\n",
    "# print(grads)\n",
    "\n",
    "# dw, = grads\n",
    "# dw"
   ]
  },
  {
   "cell_type": "code",
   "execution_count": 72,
   "id": "8c23c65b-2dc6-4c50-88a0-ac224472be32",
   "metadata": {},
   "outputs": [],
   "source": [
    "class Embedding:\n",
    "    def __init__(self, W):\n",
    "        self.params = [W]\n",
    "        self.grads = [np.zeros_like(W)]\n",
    "        self.idx = None\n",
    "        print(self.grads)\n",
    "\n",
    "    def forward(self, idx):\n",
    "        W, = self.params\n",
    "        self.idx = idx\n",
    "        out = W[idx]\n",
    "        return out\n",
    "\n",
    "    def backward(self, dout):\n",
    "        dW, = self.grads\n",
    "        # dW[...] = 0 #dW[...] = 0 将 dW（即全零矩阵）重置为全零，确保每次进行反向传播时梯度是清零的。\n",
    "        print(dW)\n",
    "        \n",
    "        # if GPU:\n",
    "        #     np.scatter_add(dW, self.idx, dout)\n",
    "        # else:\n",
    "        #     np.add.at(dW, self.idx, dout)\n",
    "        np.add.at(dW, self.idx, dout)\n",
    "        print(dW)\n",
    "        return None"
   ]
  },
  {
   "cell_type": "code",
   "execution_count": 73,
   "id": "0d307dde-bf78-42ad-816a-6485c8414a90",
   "metadata": {},
   "outputs": [
    {
     "name": "stdout",
     "output_type": "stream",
     "text": [
      "[array([[0., 0., 0.],\n",
      "       [0., 0., 0.],\n",
      "       [0., 0., 0.],\n",
      "       [0., 0., 0.]])]\n",
      "[[0.1 0.2 0.3]\n",
      " [0.7 0.8 0.9]]\n"
     ]
    }
   ],
   "source": [
    "W = np.array([[0.1, 0.2, 0.3],  # 词 0\n",
    "              [0.4, 0.5, 0.6],  # 词 1\n",
    "              [0.7, 0.8, 0.9],  # 词 2\n",
    "              [1.0, 1.1, 1.2]]) # 词 3\n",
    "\n",
    "dout = np.array([[0.01, 0.02, 0.03],  # 对词 0 的梯度\n",
    "                 [0.04, 0.05, 0.06]]) # 对词 2 的梯度\n",
    "\n",
    "dout2 = np.array([[11, 0.02, 0.03],  # 对词 0 的梯度\n",
    "                 [0.04, 0.05, 0.06]]) # 对词 2 的梯度\n",
    "\n",
    "out = [0, 2]\n",
    "\n",
    "model = Embedding(W)\n",
    "out = model.forward(out)\n",
    "print(out)"
   ]
  },
  {
   "cell_type": "code",
   "execution_count": 74,
   "id": "d12bc5bb-fff2-49ae-ab23-f4f034cf0b54",
   "metadata": {},
   "outputs": [
    {
     "name": "stdout",
     "output_type": "stream",
     "text": [
      "[[0. 0. 0.]\n",
      " [0. 0. 0.]\n",
      " [0. 0. 0.]\n",
      " [0. 0. 0.]]\n",
      "[[0.01 0.02 0.03]\n",
      " [0.   0.   0.  ]\n",
      " [0.04 0.05 0.06]\n",
      " [0.   0.   0.  ]]\n"
     ]
    }
   ],
   "source": [
    "model.backward(dout)"
   ]
  },
  {
   "cell_type": "code",
   "execution_count": 75,
   "id": "09b3ee50-e1e3-4696-af07-b7eaa1f3d622",
   "metadata": {},
   "outputs": [
    {
     "name": "stdout",
     "output_type": "stream",
     "text": [
      "[[0. 0. 0.]\n",
      " [0. 0. 0.]\n",
      " [0. 0. 0.]\n",
      " [0. 0. 0.]]\n",
      "[[11.    0.02  0.03]\n",
      " [ 0.    0.    0.  ]\n",
      " [ 0.04  0.05  0.06]\n",
      " [ 0.    0.    0.  ]]\n"
     ]
    }
   ],
   "source": [
    "out2 = model.backward(dout2)"
   ]
  },
  {
   "cell_type": "code",
   "execution_count": null,
   "id": "33317b71-214e-4a1b-8f73-dee22b3736ac",
   "metadata": {},
   "outputs": [],
   "source": []
  }
 ],
 "metadata": {
  "kernelspec": {
   "display_name": "Python 3 (ipykernel)",
   "language": "python",
   "name": "python3"
  },
  "language_info": {
   "codemirror_mode": {
    "name": "ipython",
    "version": 3
   },
   "file_extension": ".py",
   "mimetype": "text/x-python",
   "name": "python",
   "nbconvert_exporter": "python",
   "pygments_lexer": "ipython3",
   "version": "3.9.0"
  }
 },
 "nbformat": 4,
 "nbformat_minor": 5
}
