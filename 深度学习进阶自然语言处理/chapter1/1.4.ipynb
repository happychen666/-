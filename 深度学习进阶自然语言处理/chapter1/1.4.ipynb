{
 "cells": [
  {
   "cell_type": "code",
   "execution_count": 1,
   "id": "68309cfc-b543-4926-9ebb-1450074ae9f3",
   "metadata": {},
   "outputs": [],
   "source": [
    "import sys\n",
    "sys.path.append('..')\n",
    "from dataset import spiral\n",
    "import matplotlib.pyplot as plt"
   ]
  },
  {
   "cell_type": "code",
   "execution_count": 2,
   "id": "9c4779f7-ada1-482d-9612-f0e74557d9a2",
   "metadata": {},
   "outputs": [
    {
     "name": "stdout",
     "output_type": "stream",
     "text": [
      "(300, 2) \n",
      " [[-0.          0.        ]\n",
      " [-0.00097699  0.00995216]\n",
      " [ 0.00512668  0.01933176]\n",
      " [-0.00038604  0.02999752]\n",
      " [ 0.01425097  0.03737526]]\n",
      "(300, 3)\n"
     ]
    },
    {
     "data": {
      "text/plain": [
       "array([[1, 0, 0],\n",
       "       [1, 0, 0],\n",
       "       [1, 0, 0],\n",
       "       [1, 0, 0],\n",
       "       [1, 0, 0]])"
      ]
     },
     "execution_count": 2,
     "metadata": {},
     "output_type": "execute_result"
    }
   ],
   "source": [
    "x,t = spiral.load_data()\n",
    "print(x.shape,'\\n',x[:5])\n",
    "\n",
    "print(t.shape)\n",
    "t[:5]"
   ]
  },
  {
   "cell_type": "code",
   "execution_count": null,
   "id": "baf74281-5fbe-4d88-99c2-e6a9b52c5c78",
   "metadata": {},
   "outputs": [],
   "source": []
  },
  {
   "cell_type": "code",
   "execution_count": null,
   "id": "bbf14384-492a-4057-8271-c5d6416087cc",
   "metadata": {},
   "outputs": [],
   "source": []
  }
 ],
 "metadata": {
  "kernelspec": {
   "display_name": "Python 3 (ipykernel)",
   "language": "python",
   "name": "python3"
  },
  "language_info": {
   "codemirror_mode": {
    "name": "ipython",
    "version": 3
   },
   "file_extension": ".py",
   "mimetype": "text/x-python",
   "name": "python",
   "nbconvert_exporter": "python",
   "pygments_lexer": "ipython3",
   "version": "3.9.0"
  }
 },
 "nbformat": 4,
 "nbformat_minor": 5
}
