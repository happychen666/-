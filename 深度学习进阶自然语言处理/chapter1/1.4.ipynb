{
 "cells": [
  {
   "cell_type": "code",
   "execution_count": 1,
   "id": "68309cfc-b543-4926-9ebb-1450074ae9f3",
   "metadata": {},
   "outputs": [],
   "source": [
    "import sys\n",
    "sys.path.append('..')\n",
    "from dataset import spiral\n",
    "import matplotlib.pyplot as plt"
   ]
  },
  {
   "cell_type": "code",
   "execution_count": 2,
   "id": "9c4779f7-ada1-482d-9612-f0e74557d9a2",
   "metadata": {},
   "outputs": [
    {
     "name": "stdout",
     "output_type": "stream",
     "text": [
      "(300, 2) \n",
      " [[-0.          0.        ]\n",
      " [-0.00097699  0.00995216]\n",
      " [ 0.00512668  0.01933176]\n",
      " [-0.00038604  0.02999752]\n",
      " [ 0.01425097  0.03737526]]\n",
      "(300, 3)\n"
     ]
    },
    {
     "data": {
      "text/plain": [
       "array([[1, 0, 0],\n",
       "       [1, 0, 0],\n",
       "       [1, 0, 0],\n",
       "       [1, 0, 0],\n",
       "       [1, 0, 0]])"
      ]
     },
     "execution_count": 2,
     "metadata": {},
     "output_type": "execute_result"
    }
   ],
   "source": [
    "x,t = spiral.load_data()\n",
    "print(x.shape,'\\n',x[:5])\n",
    "\n",
    "print(t.shape)\n",
    "t[:5]"
   ]
  },
  {
   "cell_type": "code",
   "execution_count": 4,
   "id": "baf74281-5fbe-4d88-99c2-e6a9b52c5c78",
   "metadata": {},
   "outputs": [
    {
     "name": "stdout",
     "output_type": "stream",
     "text": [
      "t /n [0 1 2]\n",
      "arange== [0 1 2]\n",
      "Cross entropy loss: 0.3635478948317185\n"
     ]
    }
   ],
   "source": [
    "import numpy as np\n",
    "\n",
    "def cross_entropy_error(y, t):\n",
    "    if y.ndim == 1:\n",
    "        t = t.reshape(1, t.size)\n",
    "        y = y.reshape(1, y.size)\n",
    "        \n",
    "    # 在监督标签为one-hot-vector的情况下，转换为正确解标签的索引\n",
    "    if t.size == y.size:\n",
    "        t = t.argmax(axis=1)\n",
    "    print('t','/n',t)         \n",
    "    batch_size = y.shape[0]\n",
    "    print('arange==',np.arange(batch_size))\n",
    "\n",
    "    return -np.sum(np.log(y[np.arange(batch_size), t] + 1e-7)) / batch_size\n",
    "\n",
    "# 预测概率\n",
    "y = np.array([[0.7, 0.2, 0.1], \n",
    "              [0.1, 0.8, 0.1], \n",
    "              [0.2, 0.2, 0.6]])\n",
    "\n",
    "# 真实标签\n",
    "t = np.array([[1, 0, 0], \n",
    "              [0, 1, 0], \n",
    "              [0, 0, 1]])\n",
    "\n",
    "# 计算交叉熵损失\n",
    "loss = cross_entropy_error(y, t)\n",
    "print(\"Cross entropy loss:\", loss)\n"
   ]
  },
  {
   "cell_type": "code",
   "execution_count": null,
   "id": "bbf14384-492a-4057-8271-c5d6416087cc",
   "metadata": {},
   "outputs": [],
   "source": []
  }
 ],
 "metadata": {
  "kernelspec": {
   "display_name": "Python 3 (ipykernel)",
   "language": "python",
   "name": "python3"
  },
  "language_info": {
   "codemirror_mode": {
    "name": "ipython",
    "version": 3
   },
   "file_extension": ".py",
   "mimetype": "text/x-python",
   "name": "python",
   "nbconvert_exporter": "python",
   "pygments_lexer": "ipython3",
   "version": "3.9.13"
  }
 },
 "nbformat": 4,
 "nbformat_minor": 5
}
