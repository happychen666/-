{
 "cells": [
  {
   "cell_type": "code",
   "execution_count": 5,
   "id": "320a3af3-adb3-4961-9861-0e7f9d023ece",
   "metadata": {},
   "outputs": [],
   "source": [
    "import numpy as np\n",
    "\n",
    "class Sigmoid:\n",
    "    def __init__(self):\n",
    "        self.params,self.grads = [],[]\n",
    "        self.out = None\n",
    "\n",
    "    def forward(self,x):\n",
    "        out = 1/(1+np.exp(-x))\n",
    "        self.out = out\n",
    "        return out\n",
    "    \n",
    "    def backward(self,dout):\n",
    "        dx = dout*(1.0 - self.out)*self.out\n",
    "        return dx\n",
    "\n",
    "class Affine:\n",
    "    def __init__(self,W,b):\n",
    "        self.grads=[np.zeros_like(W),np.zeros_like(b)]\n",
    "        self.params=[W,b]\n",
    "        self.x = None\n",
    "\n",
    "    def forward(self,x):\n",
    "        W,b=self.params\n",
    "        out=np.dot(x,W)+b\n",
    "        return out\n",
    "\n",
    "    def backward(self,dout):\n",
    "        W,b = self.params\n",
    "        dx=np.dot(dout,W.T)\n",
    "        dW=np.dot(self.x.T,dout)\n",
    "        db=np.sum(dout,axis=0)\n",
    "\n",
    "        self.grads[0][...]=dW\n",
    "        sef.grads[1][...] = db\n",
    "        return dx\n",
    "\n",
    "class TwoLayerNet:\n",
    "    def __init__(self,input_size,hidden_size,output_size):\n",
    "        I,H,O = input_size,hidden_size,output_size\n",
    "\n",
    "        # 初始化权重和偏置\n",
    "        W1 = np.random.randn(I,H)\n",
    "        b1=np.random.randn(H)\n",
    "        W2 = np.random.randn(O)\n",
    "        b2=np.random.randn(O)\n",
    "\n",
    "        # 生成层\n",
    "        self.layers=[\n",
    "            Affine(W1,b2),\n",
    "            Sigmoid(),\n",
    "            Affine(W2,b2)\n",
    "        ]\n",
    "\n",
    "        # 将所有的权重整理到列表中\n",
    "        self.params = []\n",
    "        for layer in self.layers:\n",
    "            self.params+=layer.params\n",
    "\n",
    "    def predict(self,x):\n",
    "        for layer in self.layers:\n",
    "            x = layer.forward(x)\n",
    "        return x\n",
    "        "
   ]
  },
  {
   "cell_type": "code",
   "execution_count": 3,
   "id": "bcbfbaad-bcc5-43d2-8862-359e231bb0fc",
   "metadata": {},
   "outputs": [
    {
     "ename": "NameError",
     "evalue": "name 'out' is not defined",
     "output_type": "error",
     "traceback": [
      "\u001b[1;31m---------------------------------------------------------------------------\u001b[0m",
      "\u001b[1;31mNameError\u001b[0m                                 Traceback (most recent call last)",
      "Cell \u001b[1;32mIn[3], line 2\u001b[0m\n\u001b[0;32m      1\u001b[0m x \u001b[38;5;241m=\u001b[39m np\u001b[38;5;241m.\u001b[39mrandom\u001b[38;5;241m.\u001b[39mrandn(\u001b[38;5;241m10\u001b[39m,\u001b[38;5;241m2\u001b[39m)\n\u001b[1;32m----> 2\u001b[0m model \u001b[38;5;241m=\u001b[39m \u001b[43mTwoLayerNet\u001b[49m\u001b[43m(\u001b[49m\u001b[38;5;241;43m2\u001b[39;49m\u001b[43m,\u001b[49m\u001b[38;5;241;43m4\u001b[39;49m\u001b[43m,\u001b[49m\u001b[38;5;241;43m3\u001b[39;49m\u001b[43m)\u001b[49m\n\u001b[0;32m      3\u001b[0m model\u001b[38;5;241m.\u001b[39mpredict(x)\n",
      "Cell \u001b[1;32mIn[2], line 51\u001b[0m, in \u001b[0;36mTwoLayerNet.__init__\u001b[1;34m(self, input_size, hidden_size, output_size)\u001b[0m\n\u001b[0;32m     46\u001b[0m b2\u001b[38;5;241m=\u001b[39mnp\u001b[38;5;241m.\u001b[39mrandom\u001b[38;5;241m.\u001b[39mrandn(O)\n\u001b[0;32m     48\u001b[0m \u001b[38;5;66;03m# 生成层\u001b[39;00m\n\u001b[0;32m     49\u001b[0m \u001b[38;5;28mself\u001b[39m\u001b[38;5;241m.\u001b[39mlayers\u001b[38;5;241m=\u001b[39m[\n\u001b[0;32m     50\u001b[0m     Affine(W1,b2),\n\u001b[1;32m---> 51\u001b[0m     \u001b[43mSigmoid\u001b[49m\u001b[43m(\u001b[49m\u001b[43m)\u001b[49m,\n\u001b[0;32m     52\u001b[0m     Affine(W2,b2)\n\u001b[0;32m     53\u001b[0m ]\n\u001b[0;32m     55\u001b[0m \u001b[38;5;66;03m# 将所有的权重整理到列表中\u001b[39;00m\n\u001b[0;32m     56\u001b[0m \u001b[38;5;28mself\u001b[39m\u001b[38;5;241m.\u001b[39mparams \u001b[38;5;241m=\u001b[39m []\n",
      "Cell \u001b[1;32mIn[2], line 6\u001b[0m, in \u001b[0;36mSigmoid.__init__\u001b[1;34m(self)\u001b[0m\n\u001b[0;32m      4\u001b[0m \u001b[38;5;28;01mdef\u001b[39;00m \u001b[38;5;21m__init__\u001b[39m(\u001b[38;5;28mself\u001b[39m):\n\u001b[0;32m      5\u001b[0m     \u001b[38;5;28mself\u001b[39m\u001b[38;5;241m.\u001b[39mparams,\u001b[38;5;28mself\u001b[39m\u001b[38;5;241m.\u001b[39mgrads \u001b[38;5;241m=\u001b[39m [],[]\n\u001b[1;32m----> 6\u001b[0m     \u001b[38;5;28mself\u001b[39m\u001b[38;5;241m.\u001b[39mout \u001b[38;5;241m=\u001b[39m \u001b[43mout\u001b[49m\n",
      "\u001b[1;31mNameError\u001b[0m: name 'out' is not defined"
     ]
    }
   ],
   "source": [
    "x = np.random.randn(10,2)\n",
    "model = TwoLayerNet(2,4,3)\n",
    "model.predict(x)"
   ]
  },
  {
   "cell_type": "code",
   "execution_count": null,
   "id": "3adcff67-40b7-4e63-867b-1be653bb1a0e",
   "metadata": {},
   "outputs": [],
   "source": []
  }
 ],
 "metadata": {
  "kernelspec": {
   "display_name": "Python 3 (ipykernel)",
   "language": "python",
   "name": "python3"
  },
  "language_info": {
   "codemirror_mode": {
    "name": "ipython",
    "version": 3
   },
   "file_extension": ".py",
   "mimetype": "text/x-python",
   "name": "python",
   "nbconvert_exporter": "python",
   "pygments_lexer": "ipython3",
   "version": "3.9.0"
  }
 },
 "nbformat": 4,
 "nbformat_minor": 5
}
