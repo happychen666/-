{
 "cells": [
  {
   "cell_type": "code",
   "execution_count": 1,
   "id": "0ef526d7-378c-4b95-a345-37a39af7131c",
   "metadata": {},
   "outputs": [],
   "source": [
    "from common.np import *\n",
    "def softmax(x):\n",
    "    if x.ndim ==2:\n",
    "        x = x=x.max(axis=1,keepdims=True)\n",
    "        x=np.exp(x)\n",
    "        x /=x.sum(axis=1,keepdims=True)\n",
    "    if x.ndim==1:\n",
    "        x = x-np.max(x)\n",
    "        x = np.exp(x)/np.sum(np.exp(x))\n",
    "    return x"
   ]
  },
  {
   "cell_type": "code",
   "execution_count": 3,
   "id": "1e3b9a9c-3812-4cb3-95d3-25cc42629827",
   "metadata": {},
   "outputs": [
    {
     "ename": "NameError",
     "evalue": "name 'np' is not defined",
     "output_type": "error",
     "traceback": [
      "\u001b[1;31m---------------------------------------------------------------------------\u001b[0m",
      "\u001b[1;31mNameError\u001b[0m                                 Traceback (most recent call last)",
      "Cell \u001b[1;32mIn[3], line 1\u001b[0m\n\u001b[1;32m----> 1\u001b[0m a \u001b[38;5;241m=\u001b[39m \u001b[43mnp\u001b[49m\u001b[38;5;241m.\u001b[39marray([\u001b[38;5;241m1\u001b[39m,\u001b[38;5;241m2\u001b[39m,\u001b[38;5;241m3\u001b[39m])\n\u001b[0;32m      2\u001b[0m softmax(a)\n",
      "\u001b[1;31mNameError\u001b[0m: name 'np' is not defined"
     ]
    }
   ],
   "source": [
    "a = np.array([1,2,3])\n",
    "softmax(a)"
   ]
  },
  {
   "cell_type": "code",
   "execution_count": null,
   "id": "ed5d81b1-7a85-4588-8571-562cda5f6923",
   "metadata": {},
   "outputs": [],
   "source": []
  }
 ],
 "metadata": {
  "kernelspec": {
   "display_name": "Python 3 (ipykernel)",
   "language": "python",
   "name": "python3"
  },
  "language_info": {
   "codemirror_mode": {
    "name": "ipython",
    "version": 3
   },
   "file_extension": ".py",
   "mimetype": "text/x-python",
   "name": "python",
   "nbconvert_exporter": "python",
   "pygments_lexer": "ipython3",
   "version": "3.9.0"
  }
 },
 "nbformat": 4,
 "nbformat_minor": 5
}
