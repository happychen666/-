{
 "cells": [
  {
   "cell_type": "code",
   "execution_count": null,
   "id": "cd769ed6-f695-494e-ae01-b70c6acba310",
   "metadata": {},
   "outputs": [],
   "source": []
  }
 ],
 "metadata": {
  "kernelspec": {
   "display_name": "",
   "name": ""
  },
  "language_info": {
   "name": ""
  }
 },
 "nbformat": 4,
 "nbformat_minor": 5
}
