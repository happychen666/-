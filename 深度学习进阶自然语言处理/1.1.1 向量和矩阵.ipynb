{
 "cells": [
  {
   "cell_type": "code",
   "execution_count": 1,
   "id": "40c1e345-fe18-49f5-87f5-6b7502588835",
   "metadata": {},
   "outputs": [],
   "source": [
    "import numpy as np\n",
    "import ipdb\n"
   ]
  },
  {
   "cell_type": "code",
   "execution_count": 7,
   "id": "c920c422-7325-4727-b510-55de4f0e4506",
   "metadata": {},
   "outputs": [
    {
     "name": "stdout",
     "output_type": "stream",
     "text": [
      "word=== apple\n",
      "word=== banana\n",
      "corpus== [0, 1, 0, 1, 0, 1]\n",
      "[0 1 0 1 0 1] \n",
      " {'apple': 0, 'banana': 1} \n",
      " {0: 'apple', 1: 'banana'}\n"
     ]
    }
   ],
   "source": [
    "def preprocess(text):\n",
    "    text=text.lower()\n",
    "    text=text.replace('.',' .')\n",
    "    words = text.split(' ')\n",
    "    \n",
    "    word_to_id = {} #单词到单词 ID 的字典\n",
    "    id_to_word = {} #单词 ID 到单词的字典\n",
    "    for word in words:\n",
    "        if word not in word_to_id:\n",
    "            print('word===', word)\n",
    "            new_id =  len(word_to_id)\n",
    "            word_to_id[word]= new_id\n",
    "            id_to_word[new_id] = word\n",
    "    \n",
    "    corpus = [word_to_id[w] for w in words]#单词 ID 列表(可能会重复)\n",
    "    print('corpus==', corpus)\n",
    "    corpus = np.array(corpus)\n",
    "    \n",
    "    return corpus,word_to_id,id_to_word\n",
    "\n",
    "# text = 'You say goodbye and I say hello.'\n",
    "text='apple banana apple banana apple banana'\n",
    "corpus, word_to_id, id_to_word = preprocess(text)\n",
    "print(corpus, '\\n',word_to_id, '\\n',id_to_word)\n"
   ]
  },
  {
   "cell_type": "code",
   "execution_count": 10,
   "id": "2cd91cba-1179-48f7-940f-9c53acf07f9d",
   "metadata": {},
   "outputs": [
    {
     "name": "stdout",
     "output_type": "stream",
     "text": [
      "6\n"
     ]
    },
    {
     "data": {
      "text/plain": [
       "array([[0, 5, 0, 0],\n",
       "       [5, 0, 0, 0],\n",
       "       [0, 0, 0, 0],\n",
       "       [0, 0, 0, 0]])"
      ]
     },
     "execution_count": 10,
     "metadata": {},
     "output_type": "execute_result"
    }
   ],
   "source": [
    "def create_co_matrix(corpus, vocab_size, window_size=1):\n",
    "    corpus_size = len(corpus)\n",
    "    print(corpus_size)\n",
    "    co_matrix = np.zeros((vocab_size, vocab_size), dtype=np.int32)\n",
    "    for idx, word_id in enumerate(corpus):\n",
    "        # ipdb.set_trace()  # 设置断点\n",
    "        for i in range(1, window_size + 1):\n",
    "            left_idx = idx - i\n",
    "            right_idx = idx + i\n",
    "            # ipdb.set_trace()  # 设置断点\n",
    "            if left_idx >= 0:\n",
    "                left_word_id = corpus[left_idx]\n",
    "                co_matrix[word_id, left_word_id] += 1\n",
    "            if right_idx < corpus_size:\n",
    "                right_word_id = corpus[right_idx]\n",
    "                co_matrix[word_id, right_word_id] += 1\n",
    "    return co_matrix\n",
    "\n",
    "create_co_matrix(corpus,4,1)"
   ]
  },
  {
   "cell_type": "code",
   "execution_count": null,
   "id": "166e74b6-48f5-4ef1-b96f-0c3254486929",
   "metadata": {},
   "outputs": [],
   "source": []
  }
 ],
 "metadata": {
  "kernelspec": {
   "display_name": "Python 3 (ipykernel)",
   "language": "python",
   "name": "python3"
  },
  "language_info": {
   "codemirror_mode": {
    "name": "ipython",
    "version": 3
   },
   "file_extension": ".py",
   "mimetype": "text/x-python",
   "name": "python",
   "nbconvert_exporter": "python",
   "pygments_lexer": "ipython3",
   "version": "3.9.13"
  }
 },
 "nbformat": 4,
 "nbformat_minor": 5
}
